{
 "cells": [
  {
   "cell_type": "markdown",
   "id": "211f3a2a",
   "metadata": {},
   "source": [
    "# Simulation Sandbox\n",
    "\n",
    "#### Objective 🎯\n",
    "\n",
    "This notebook aims to familiarize the workshop participants with the simulation environment used in the workshop.\n",
    "\n",
    "**Tools of the trade**\n",
    "- [pyswmm](https://www.pyswmm.org): pyswmm is a Python wrapper for controlling EPA-SWMM's simulation engine. pyswmm is available in PyPI and on GitHub. pyswmm enables us to pause the simulation, query the states, make the necessary modification, and resume the simulation. We rely on pyswmm for simulating real-time control in stormwater systems. EPA-SWMM's solver uses the dynamics wave equation for routing flows in the stormwater network. This solver enables us to simulate hydraulic phenomena like backwater propagation which can arise with control. This makes EPA SWMM an ideal choice for simulating control in stormwater systems.\n",
    "- [swmmio](https://swmmio.readthedocs.io/en/v0.6.6/): swmmio helps us update input files, read output and report files, and visualize the network topology \n",
    "- [pystorms](https://www.pystorms.org): pystorms is a collection of real-world inspired stormwater networks for evaluating and developing real-time control algorithms. \n",
    "\n",
    "We will also be using several other amazing Python libraries like **numpy**, **pandas**, **scikit-learn** and **matplotlib**. "
   ]
  },
  {
   "cell_type": "code",
   "execution_count": null,
   "id": "a7ba8d39",
   "metadata": {},
   "outputs": [],
   "source": [
    "!pip install pyswmm swmmio pystorms matplotlib pandas"
   ]
  },
  {
   "cell_type": "code",
   "execution_count": null,
   "id": "8edb3c25",
   "metadata": {},
   "outputs": [],
   "source": [
    "# import libs\n",
    "import pyswmm\n",
    "import swmmio\n",
    "import pystorms\n",
    "import matplotlib.pyplot as plt"
   ]
  },
  {
   "cell_type": "code",
   "execution_count": null,
   "id": "3ff61acb",
   "metadata": {},
   "outputs": [],
   "source": [
    "# RC parms for pretty plots 💁🏽\n",
    "plt.rcParams.update({'font.size': 20})\n",
    "plt.style.use('seaborn-v0_8-whitegrid')\n",
    "plt.style.use('seaborn-v0_8-dark-palette')"
   ]
  },
  {
   "cell_type": "markdown",
   "id": "95d0cc2d",
   "metadata": {},
   "source": [
    "For this example, we will use a synthetic stormwater network with two basins draining into an outlet. The image below represents the network's topology and flow at the network outlet during a storm event."
   ]
  },
  {
   "cell_type": "markdown",
   "id": "6b05f546",
   "metadata": {},
   "source": [
    "![Theta](./data/theta.png)"
   ]
  },
  {
   "cell_type": "markdown",
   "id": "1d798756",
   "metadata": {},
   "source": [
    "### Exercise - 1\n",
    "#### Simulating a stormwater network in EPA-SWMM in Python using pyswmm"
   ]
  },
  {
   "cell_type": "code",
   "execution_count": null,
   "id": "b8aa65f6",
   "metadata": {},
   "outputs": [],
   "source": [
    "# NOTE: If you are unfamiliar with input files, EPA-SWMM uses a input file to represent the network topology \n",
    "# and forcing events like rainfall and dry-weather flows.\n",
    "\n",
    "# Load the input file from pystorms.\n",
    "input_file = pystorms.load_network(\"theta\")\n",
    "print(f\"SWMM input file path: {input_file}\")"
   ]
  },
  {
   "cell_type": "markdown",
   "id": "c3373c4c",
   "metadata": {},
   "source": [
    "👆 pystorms is just providing the path to the input file."
   ]
  },
  {
   "cell_type": "code",
   "execution_count": null,
   "id": "076af36e",
   "metadata": {},
   "outputs": [],
   "source": [
    "# Once we have the stormwater network, we hand over the input file to the awesome pyswmm\n",
    "# pyswmm helps us control EPA-SWMM from python, so that we don't have to press buttons in a GUI anymore 😆\n",
    "simulation = pyswmm.Simulation(inputfile=input_file)\n",
    "\n",
    "# run the simulation\n",
    "simulation.execute()"
   ]
  },
  {
   "cell_type": "markdown",
   "id": "6fe24683",
   "metadata": {},
   "source": [
    "👨🏼‍🎓 **Exercise 1.1** : Try running a simulation with another stormwater network from pystorms or may be one of your own stormwater networks.\n",
    "\n",
    "pystorms has the following stormwater networks: *theta, alpha, beta, gamma, delta, epsilon, zeta*\n",
    "\n",
    "See https://www.pystorms.org/docs/build/html/scenarios.html for additional information on the available stormwater networks."
   ]
  },
  {
   "cell_type": "code",
   "execution_count": null,
   "id": "43276e8b",
   "metadata": {},
   "outputs": [],
   "source": [
    "input_file_bonus_question = pystorms.load_network(\"\")\n",
    "## Your awesome code goes here!"
   ]
  },
  {
   "cell_type": "markdown",
   "id": "905cea4b",
   "metadata": {},
   "source": [
    "### Exercise - 2\n",
    "#### Interactive simulation of stormwater networks\n",
    "\n",
    "The power of pyswmm is its ability to control the SWMM solver from Python. Using pyswmm, we can stop the simulation midway, make changes, and resume it. It also enables us to link SWMM with Python libraries like Pytorch and Numpy and create novel solutions. We will see more on this in the later part of the workshop.  "
   ]
  },
  {
   "cell_type": "code",
   "execution_count": null,
   "id": "5a75b9a3",
   "metadata": {},
   "outputs": [],
   "source": [
    "# pyswmm gives us the power to intervene during the simulation and make changes\n",
    "input_file = pystorms.load_network(\"theta\")\n",
    "simulation = pyswmm.Simulation(inputfile=input_file)\n",
    "\n",
    "for step in simulation:\n",
    "    # pyswmm returns current step as python's datetime object\n",
    "    print(f\"Simulation Time: {simulation.current_time}\")\n",
    "\n",
    "simulation.close()"
   ]
  },
  {
   "cell_type": "markdown",
   "id": "1e0bd23c",
   "metadata": {},
   "source": [
    "Building on this example, let us see what else we can do"
   ]
  },
  {
   "cell_type": "code",
   "execution_count": null,
   "id": "8e5e637c",
   "metadata": {},
   "outputs": [],
   "source": [
    "# Create data loggers\n",
    "simulation_time = []\n",
    "depth = []\n",
    "flows = []\n",
    "\n",
    "# Open the simulation\n",
    "input_file = pystorms.load_network(\"theta\")\n",
    "\n",
    "# Note: with statement is an other way to use pyswmm\n",
    "with pyswmm.Simulation(inputfile=input_file) as sim:\n",
    "    # Initialize nodes and links objects\n",
    "    nodes = pyswmm.Nodes(sim)\n",
    "    link = pyswmm.Links(sim)\n",
    "    \n",
    "    # Specify the link or nodes that we are interested in monitoring\n",
    "    node_P1 = nodes['P1']\n",
    "    link_8 = link['8']\n",
    "    orifice_P1 = link['1']\n",
    "    \n",
    "    # Progress through the simulation\n",
    "    for step in sim:\n",
    "        # Log the simulation time\n",
    "        simulation_time.append(sim.current_time)\n",
    "        \n",
    "        # Log the depth and low\n",
    "        depth.append(node_P1.depth)\n",
    "        flows.append(link_8.flow)"
   ]
  },
  {
   "cell_type": "markdown",
   "id": "082d367d",
   "metadata": {},
   "source": [
    "Let us plot and see what is happening in the system"
   ]
  },
  {
   "cell_type": "code",
   "execution_count": null,
   "id": "caf80071",
   "metadata": {},
   "outputs": [],
   "source": [
    "plt.figure(figsize=(20, 5), dpi=200)\n",
    "plt.plot(simulation_time, depth, linewidth=3.0)\n",
    "plt.title(\"Depth in Basin P1\", loc='left')\n",
    "plt.ylabel(\"Depth (ft)\")\n",
    "plt.xlabel(\"Simulation Time\")"
   ]
  },
  {
   "cell_type": "markdown",
   "id": "01174c73",
   "metadata": {},
   "source": [
    "👨🏼‍🎓 **Exercise 2.1**\n",
    "\n",
    "Building on the above code, plot the water level in the Node P2.\n",
    "\n",
    "*Note*: P1 and P2 are the basins in network theta, represented by the orange nodes in the image above."
   ]
  },
  {
   "cell_type": "code",
   "execution_count": null,
   "id": "37452aee",
   "metadata": {},
   "outputs": [],
   "source": [
    "# Get the input file\n",
    "input_file = pystorms.networks.load_network(\"theta\")\n",
    "\n",
    "# Create lists for logging data\n",
    "\n",
    "\n",
    "# Initalize the simulation object\n",
    "with pyswmm.Simulation(inputfile=input_file) as sim:\n",
    "    # <your code goes here>\n",
    "    pass"
   ]
  },
  {
   "cell_type": "markdown",
   "id": "88b5f5f2",
   "metadata": {},
   "source": [
    "#### Pro-tip 🧘🏽‍♀️\n",
    "**Reading output files**\n",
    "\n",
    "pyswmm can process simulation data from the output file generated by EPA-SWMM. The following example illustrates this functionality"
   ]
  },
  {
   "cell_type": "code",
   "execution_count": null,
   "id": "128fd4f1",
   "metadata": {},
   "outputs": [],
   "source": [
    "# Import pyswmm output parser module and object the informs the which datatype to pull from the output file\n",
    "from pyswmm import Output\n",
    "from swmm.toolkit.shared_enum import NodeAttribute"
   ]
  },
  {
   "cell_type": "markdown",
   "id": "ac5e8c77",
   "metadata": {},
   "source": [
    "For more information, refer http://pyswmm.github.io/pyswmm/reference/output.html"
   ]
  },
  {
   "cell_type": "markdown",
   "id": "5cf266c4",
   "metadata": {},
   "source": [
    "We will use pandas to help us deal timeseries 🐼"
   ]
  },
  {
   "cell_type": "code",
   "execution_count": null,
   "id": "7af10b7f",
   "metadata": {},
   "outputs": [],
   "source": [
    "import pandas as pd"
   ]
  },
  {
   "cell_type": "code",
   "execution_count": null,
   "id": "b576dcab",
   "metadata": {},
   "outputs": [],
   "source": [
    "# get the path of the output file\n",
    "output_file = input_file[:-3] + \"out\""
   ]
  },
  {
   "cell_type": "code",
   "execution_count": null,
   "id": "7cba15a8",
   "metadata": {},
   "outputs": [],
   "source": [
    "print(f\"Path of the output file: {output_file}\")"
   ]
  },
  {
   "cell_type": "code",
   "execution_count": null,
   "id": "61575acf",
   "metadata": {},
   "outputs": [],
   "source": [
    "output_object = Output(output_file)\n",
    "depth = output_object.node_series(\"P1\", attribute=NodeAttribute.INVERT_DEPTH)\n",
    "depth = pd.DataFrame(data={\"P1 Depth\": depth.values()}, index=depth.keys())"
   ]
  },
  {
   "cell_type": "code",
   "execution_count": null,
   "id": "70ea45cc",
   "metadata": {},
   "outputs": [],
   "source": [
    "plt.figure(figsize=(20, 5), dpi=200)\n",
    "plt.plot(depth, linewidth=3.0)\n",
    "plt.title(\"Depth in Basin P1\", loc='left')\n",
    "plt.ylabel(\"Depth (ft)\")\n",
    "plt.xlabel(\"Simulation Time\")"
   ]
  },
  {
   "cell_type": "markdown",
   "id": "8993984b",
   "metadata": {},
   "source": [
    "### Exercise - 3\n",
    "#### Real-time control of stormwater networks 🤯\n",
    "\n",
    "The interactive nature of pyswmm enables us to implement real-time control strategies. This feature has helped us develop and deploy stormwater control algorithms worldwide."
   ]
  },
  {
   "cell_type": "code",
   "execution_count": null,
   "id": "4a81c4f2",
   "metadata": {},
   "outputs": [],
   "source": [
    "# Load the input file\n",
    "input_file = pystorms.networks.load_network(\"theta\")\n",
    "\n",
    "depth = []\n",
    "flow = []\n",
    "simulation_time = []\n",
    "with pyswmm.Simulation(inputfile=input_file) as sim:\n",
    "    # Initialize nodes and links objects\n",
    "    nodes = pyswmm.Nodes(sim)\n",
    "    link = pyswmm.Links(sim)\n",
    "    \n",
    "    # Specify the link or nodes that we are interested in monitoring\n",
    "    node_P1 = nodes['P1']\n",
    "    link_8 = link['8']\n",
    "    orifice_P1 = link['1']\n",
    "    # Progress through the simulation\n",
    "    for step in sim:\n",
    "        # Log the simulation time\n",
    "        simulation_time.append(sim.current_time)\n",
    "        \n",
    "        basin_P1_depth = node_P1.depth\n",
    "        \n",
    "        # A simple control action to hold the water in the basin\n",
    "        if basin_P1_depth <= 0.10:\n",
    "            orifice_P1.target_setting = 0.0\n",
    "        else:\n",
    "            orifice_P1.target_setting = 1.0\n",
    "        \n",
    "        # Log basin depth and flow\n",
    "        depth.append(basin_P1_depth)\n",
    "        flow.append(link_8.flow)"
   ]
  },
  {
   "cell_type": "code",
   "execution_count": null,
   "id": "7ba4528c",
   "metadata": {},
   "outputs": [],
   "source": [
    "plt.figure(figsize=(20, 10), dpi=200)\n",
    "plt.subplot(2, 1, 1)\n",
    "plt.plot(depth, linewidth=3.0)\n",
    "plt.ylabel(\"Depth (ft)\")\n",
    "plt.xlabel(\"Simulation Time\")\n",
    "\n",
    "plt.subplot(2, 1, 2)\n",
    "plt.plot(flow, linewidth=3.0)\n",
    "plt.ylabel(r\"Flow $(ft^{3}s^{-1})$\")\n",
    "plt.xlabel(\"Simulation Time\")"
   ]
  }
 ],
 "metadata": {
  "kernelspec": {
   "display_name": "Python 3 (ipykernel)",
   "language": "python",
   "name": "python3"
  },
  "language_info": {
   "codemirror_mode": {
    "name": "ipython",
    "version": 3
   },
   "file_extension": ".py",
   "mimetype": "text/x-python",
   "name": "python",
   "nbconvert_exporter": "python",
   "pygments_lexer": "ipython3",
   "version": "3.9.16"
  }
 },
 "nbformat": 4,
 "nbformat_minor": 5
}
