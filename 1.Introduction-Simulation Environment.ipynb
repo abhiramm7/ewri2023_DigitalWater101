{
 "cells": [
  {
   "cell_type": "markdown",
   "id": "211f3a2a",
   "metadata": {},
   "source": [
    "# Introduction: sandbox for developing digital water systems"
   ]
  },
  {
   "cell_type": "markdown",
   "id": "7c8c3459",
   "metadata": {},
   "source": [
    "## Objective\n",
    "\n",
    "The goal of this notebook is to familiazie one self with the simulation environment and tools used in the workshop for building digital twins.\n",
    "\n",
    "### Tools of the trade\n",
    "**Explain what each tool does**\n",
    "1. pyswmm\n",
    "2. swmmio\n",
    "3. pystroms\n",
    "4. matplotlib\n",
    "5. numpy\n",
    "6. pandas\n",
    "7. scikit-learn\n",
    "8. pytorch"
   ]
  },
  {
   "cell_type": "code",
   "execution_count": 3,
   "id": "8edb3c25",
   "metadata": {},
   "outputs": [],
   "source": [
    "import pyswmm\n",
    "import swmmio\n",
    "import pystorms\n",
    "import matplotlib.pyplot as plt"
   ]
  },
  {
   "cell_type": "markdown",
   "id": "6b05f546",
   "metadata": {},
   "source": [
    "TODO: Add a image of the network or networks we will be using in this example.\n",
    "\n",
    "\n",
    "Link to the where they can find more information about the networks.\n",
    "\n",
    "\n",
    "Reach out to the ASCE to get a list of the names of the people so we can communicate information with them. "
   ]
  },
  {
   "cell_type": "markdown",
   "id": "1d798756",
   "metadata": {},
   "source": [
    "### Simulating a stormwater network in EPA-SWMM via python"
   ]
  },
  {
   "cell_type": "code",
   "execution_count": 9,
   "id": "b8aa65f6",
   "metadata": {},
   "outputs": [],
   "source": [
    "# Load a input file\n",
    "input_file = pystorms.load_network(\"theta\")"
   ]
  },
  {
   "cell_type": "code",
   "execution_count": 10,
   "id": "f9bc2360",
   "metadata": {},
   "outputs": [
    {
     "name": "stdout",
     "output_type": "stream",
     "text": [
      "SWMM input file path: /Users/pluto/Archive/dev/ewri2023_DigitalWater101/venv/lib/python3.9/site-packages/pystorms/networks/theta.inp\n"
     ]
    }
   ],
   "source": [
    "# pystorms provides a collection of real-life inspired stormwater networks.\n",
    "# In this example, we are just loading a network.\n",
    "print(f\"SWMM input file path: {input_file}\")"
   ]
  },
  {
   "cell_type": "markdown",
   "id": "9878df97",
   "metadata": {},
   "source": [
    "👨🏼‍🎓 Bonus Question: Try running a simulation with an other stormwater network from pystorms or may be one of your own stormwater networks."
   ]
  },
  {
   "cell_type": "code",
   "execution_count": 11,
   "id": "076af36e",
   "metadata": {},
   "outputs": [
    {
     "name": "stdout",
     "output_type": "stream",
     "text": [
      "\n",
      "... SWMM Version 5.2.3\n",
      " o  Retrieving project data\n",
      " o  Simulating day: 0     hour:  0\b\b\b\b\b\b\b\b\b\b\b\b\b\b0     hour: 1 \b\b\b\b\b\b\b\b\b\b\b\b\b\b0     hour: 2 \b\b\b\b\b\b\b\b\b\b\b\b\b\b0     hour: 3 \b\b\b\b\b\b\b\b\b\b\b\b\b\b0     hour: 4 \b\b\b\b\b\b\b\b\b\b\b\b\b\b0     hour: 5 \b\b\b\b\b\b\b\b\b\b\b\b\b\b0     hour: 6 \b\b\b\b\b\b\b\b\b\b\b\b\b\b0     hour: 7 \b\b\b\b\b\b\b\b\b\b\b\b\b\b0     hour: 8 \b\b\b\b\b\b\b\b\b\b\b\b\b\b0     hour: 9 \b\b\b\b\b\b\b\b\b\b\b\b\b\b0     hour: 10\b\b\b\b\b\b\b\b\b\b\b\b\b\b0     hour: 11\b\b\b\b\b\b\b\b\b\b\b\b\b\b0     hour: 12\b\b\b\b\b\b\b\b\b\b\b\b\b\b0     hour: 13\b\b\b\b\b\b\b\b\b\b\b\b\b\b0     hour: 14\b\b\b\b\b\b\b\b\b\b\b\b\b\b0     hour: 15\b\b\b\b\b\b\b\b\b\b\b\b\b\b0     hour: 16\b\b\b\b\b\b\b\b\b\b\b\b\b\b0     hour: 17\b\b\b\b\b\b\b\b\b\b\b\b\b\b0     hour: 18\b\b\b\b\b\b\b\b\b\b\b\b\b\b0     hour: 19\b\b\b\b\b\b\b\b\b\b\b\b\b\b0     hour: 20\b\b\b\b\b\b\b\b\b\b\b\b\b\b0     hour: 21\b\b\b\b\b\b\b\b\b\b\b\b\b\b0     hour: 22\b\b\b\b\b\b\b\b\b\b\b\b\b\b0     hour: 23\b\b\b\b\b\b\b\b\b\b\b\b\b\b1     hour: 0 \b\b\b\b\b\b\b\b\b\b\b\b\b\b1     hour: 1 \b\b\b\b\b\b\b\b\b\b\b\b\b\b1     hour: 2 \b\b\b\b\b\b\b\b\b\b\b\b\b\b1     hour: 3 \b\b\b\b\b\b\b\b\b\b\b\b\b\b1     hour: 4 \b\b\b\b\b\b\b\b\b\b\b\b\b\b1     hour: 5 \b\b\b\b\b\b\b\b\b\b\b\b\b\b1     hour: 6 \b\b\b\b\b\b\b\b\b\b\b\b\b\b1     hour: 7 \b\b\b\b\b\b\b\b\b\b\b\b\b\b1     hour: 8 \b\b\b\b\b\b\b\b\b\b\b\b\b\b1     hour: 9 \b\b\b\b\b\b\b\b\b\b\b\b\b\b1     hour: 10\b\b\b\b\b\b\b\b\b\b\b\b\b\b1     hour: 11\b\b\b\b\b\b\b\b\b\b\b\b\b\b1     \n",
      "... Run Completehour: 12\b\b\b\b\b\b\b\b\b\b\b\b\b\b1     hour: 13\b\b\b\b\b\b\b\b\b\b\b\b\b\b1     hour: 14\b\b\b\b\b\b\b\b\b\b\b\b\b\b1     hour: 15\b\b\b\b\b\b\b\b\b\b\b\b\b\b1     hour: 16\b\b\b\b\b\b\b\b\b\b\b\b\b\b1     hour: 17\b\b\b\b\b\b\b\b\b\b\b\b\b\b1     hour: 18\b\b\b\b\b\b\b\b\b\b\b\b\b\b1     hour: 19\b\b\b\b\b\b\b\b\b\b\b\b\b\b1     hour: 20\b\b\b\b\b\b\b\b\b\b\b\b\b\b1     hour: 21\b\b\b\b\b\b\b\b\b\b\b\b\b\b1     hour: 22\b\b\b\b\b\b\b\b\b\b\b\b\b\b1     hour: 23\b\b\b\b\b\b\b\b\b\b\b\b\b\b2     hour: 0 \b\b\b\b\b\b\b\b\b\b\b\b\b\b2     hour: 1 \b\b\b\b\b\b\b\b\b\b\b\b\b\b2     hour: 2 \b\b\b\b\b\b\b\b\b\b\b\b\b\b2     hour: 3 \b\b\b\b\b\b\b\b\b\b\b\b\b\b2     hour: 4 \b\b\b\b\b\b\b\b\b\b\b\b\b\b2     hour: 5 \b\b\b\b\b\b\b\b\b\b\b\b\b\b2     hour: 6 \b\b\b\b\b\b\b\b\b\b\b\b\b\b2     hour: 7 \b\b\b\b\b\b\b\b\b\b\b\b\b\b2     hour: 8 \b\b\b\b\b\b\b\b\b\b\b\b\b\b2     hour: 9 \b\b\b\b\b\b\b\b\b\b\b\b\b\b2     hour: 10\b\b\b\b\b\b\b\b\b\b\b\b\b\b2     hour: 11\b\b\b\b\b\b\b\b\b\b\b\b\b\b2     hour: 12\b\b\b\b\b\b\b\b\b\b\b\b\b\b2     hour: 13\b\b\b\b\b\b\b\b\b\b\b\b\b\b2     hour: 14\b\b\b\b\b\b\b\b\b\b\b\b\b\b2     hour: 15\b\b\b\b\b\b\b\b\b\b\b\b\b\b2     hour: 16\b\b\b\b\b\b\b\b\b\b\b\b\b\b2     hour: 17\b\b\b\b\b\b\b\b\b\b\b\b\b\b2     hour: 18\b\b\b\b\b\b\b\b\b\b\b\b\b\b2     hour: 19\b\b\b\b\b\b\b\b\b\b\b\b\b\b2     hour: 20\b\b\b\b\b\b\b\b\b\b\b\b\b\b2     hour: 21\b\b\b\b\b\b\b\b\b\b\b\b\b\b2     hour: 22\b\b\b\b\b\b\b\b\b\b\b\b\b\b2     hour: 23\b\b\b\b\b\b\b\b\b\b\b\b\b\b3     hour: 0 \b\b\b\b\b\b\b\b\b\b\b\b\b\b3     hour: 1 \b\b\b\b\b\b\b\b\b\b\b\b\b\b3     hour: 2 \b\b\b\b\b\b\b\b\b\b\b\b\b\b3     hour: 3 \b\b\b\b\b\b\b\b\b\b\b\b\b\b3     hour: 4 \b\b\b\b\b\b\b\b\b\b\b\b\b\b3     hour: 5 \b\b\b\b\b\b\b\b\b\b\b\b\b\b\b\b\b\b\b\b\b\b\b\b\b\b\b\b\b\bSimulation complete           "
     ]
    }
   ],
   "source": [
    "# Once we have the stormwater network, we hand over the input file to the awesome pyswmm\n",
    "# pyswmm helps us control EPA-SWMM from python, so that we don't have to press buttons anymore 😆\n",
    "simulation = pyswmm.Simulation(inputfile=input_file)\n",
    "\n",
    "# run the simulation\n",
    "simulation.execute()"
   ]
  },
  {
   "cell_type": "markdown",
   "id": "905cea4b",
   "metadata": {},
   "source": [
    "Okay, this is cool, but why do we need python to do this? I can run this by using good old EPA-SWMM GUI"
   ]
  },
  {
   "cell_type": "code",
   "execution_count": 16,
   "id": "5a75b9a3",
   "metadata": {},
   "outputs": [],
   "source": [
    "# pyswmm gives us the power to intervean during the simulation and make changes\n",
    "\n",
    "simulation = pyswmm.Simulation(inputfile=input_file)\n",
    "\n",
    "for step in simulation:\n",
    "    pass\n",
    "\n",
    "simulation.close()"
   ]
  },
  {
   "cell_type": "code",
   "execution_count": null,
   "id": "d32147d1",
   "metadata": {},
   "outputs": [],
   "source": []
  }
 ],
 "metadata": {
  "kernelspec": {
   "display_name": "Python 3 (ipykernel)",
   "language": "python",
   "name": "python3"
  },
  "language_info": {
   "codemirror_mode": {
    "name": "ipython",
    "version": 3
   },
   "file_extension": ".py",
   "mimetype": "text/x-python",
   "name": "python",
   "nbconvert_exporter": "python",
   "pygments_lexer": "ipython3",
   "version": "3.9.16"
  }
 },
 "nbformat": 4,
 "nbformat_minor": 5
}
