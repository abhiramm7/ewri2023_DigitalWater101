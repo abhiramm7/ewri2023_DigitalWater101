{
 "cells": [
  {
   "cell_type": "markdown",
   "id": "compliant-trinity",
   "metadata": {},
   "source": [
    "# Real-time Control\n",
    "\n",
    "#### Objective 🎯\n",
    "\n",
    "In this notebook, we will develop a real-time control algorithm to maximize the utilization of network's storage capacity. \n",
    "\n",
    "🤓 For you overachievers, if you complete this exercise, we have some more real-time control fun at [Chapter-3.1: bayesian Optimization-based control of stormwater systems](https://colab.research.google.com/github/abhiramm7/ewri2023_DigitalWater101/blob/main/Chapter_3_1_RTC_Advanced.ipynb) "
   ]
  },
  {
   "cell_type": "code",
   "execution_count": null,
   "id": "096697ca",
   "metadata": {},
   "outputs": [],
   "source": [
    "!pip install pyswmm swmmio pystorms matplotlib pandas"
   ]
  },
  {
   "cell_type": "code",
   "execution_count": null,
   "id": "recorded-stylus",
   "metadata": {},
   "outputs": [],
   "source": [
    "# import the awesome numpy\n",
    "import pystorms\n",
    "import numpy as np\n",
    "import matplotlib.pyplot as plt"
   ]
  },
  {
   "cell_type": "code",
   "execution_count": null,
   "id": "forward-myanmar",
   "metadata": {},
   "outputs": [],
   "source": [
    "# RC parms for pretty plots 🎨\n",
    "plt.rcParams.update({'font.size': 14})\n",
    "plt.style.use('seaborn-v0_8-whitegrid')\n",
    "plt.style.use('seaborn-v0_8-dark-palette')"
   ]
  },
  {
   "cell_type": "markdown",
   "id": "developed-silence",
   "metadata": {},
   "source": [
    "### Presenting Scenario gamma from pystorms 🎉\n",
    "In this example, we are using Scenario gamma. Scenario gamma is based on a real-world stormwater system. As described in more detail below, this network has 11 stormwater basins, each with a controllable valve at the basin outlet to hold/release water as desired.\n",
    "\n",
    "The performance of control for this scenario is based on:\n",
    "- Avoiding flooding at any of the basins, and\n",
    "- Maintaining flow from each basin below a threshold of 0.11 cubic meters/second (around 4 cubic feet/second).\n",
    "Ideally each basin will be nearly empty at the end of the simulation period so that they system has dewatered once the storm event is over.\n",
    "\n",
    "Note: The units shown when plotting states (e.g., basin depth) will be imperial (e.g., ft, cubic feet/second).\n",
    "\n",
    "![gamma](./data/gamma.png)\n",
    "\n",
    "### Model IDs in Scenario gamma\n",
    "```yaml\n",
    "# name of scenario \n",
    "name: gamma\n",
    "# state definitions\n",
    "states:\n",
    "        - !!python/tuple \n",
    "          - \"1\"\n",
    "          - depthN\n",
    "          # ... through \"11\" depthN\n",
    "# Action space \n",
    "action_space:\n",
    "        - O1\n",
    "        # ... through O11\n",
    "# Performance Targets\n",
    "performance_targets:\n",
    "        - !!python/tuple\n",
    "          - O1\n",
    "          - flow\n",
    "          # ... through O11 flow\n",
    "          - !!python/tuple\n",
    "          - \"1\"\n",
    "          - flooding\n",
    "          # ... through \"11\" flooding\n",
    "          - !!python/tuple \n",
    "          - \"1\"\n",
    "          - depthN\n",
    "          # ... through \"11\" depthN\n",
    "```"
   ]
  },
  {
   "cell_type": "markdown",
   "id": "diagnostic-calculation",
   "metadata": {},
   "source": [
    "As abbreviated above, the accessible states for this scenario are the depths in each stormwater basin, denoted 1, ..., 11.\n",
    "\n",
    "The action space (i.e., what you can control) is made up of the settings for each basin outlet valve, denoted O1, ..., O11."
   ]
  },
  {
   "cell_type": "markdown",
   "id": "magnetic-liberty",
   "metadata": {},
   "source": [
    "### Uncontrolled performance of Scenario gamma\n",
    "In the uncontrolled case, all control assets are open (i.e., set to 1)."
   ]
  },
  {
   "cell_type": "code",
   "execution_count": null,
   "id": "wooden-fitting",
   "metadata": {
    "ExecuteTime": {
     "end_time": "2020-09-23T15:18:50.571714Z",
     "start_time": "2020-09-23T15:18:23.405166Z"
    }
   },
   "outputs": [],
   "source": [
    "env = pystorms.scenarios.gamma()\n",
    "done = False\n",
    "\n",
    "while not done:\n",
    "    # Query the current state of the simulation\n",
    "    state = env.state()\n",
    "    \n",
    "    # Initialize actions to have each asset open\n",
    "    actions = np.ones(11)\n",
    "    \n",
    "    # Set the actions and progress the simulation\n",
    "    done = env.step(actions)\n",
    "    \n",
    "# Calculate the performance measure for the uncontrolled simulation\n",
    "uncontrolled_perf = sum(env.data_log[\"performance_measure\"])"
   ]
  },
  {
   "cell_type": "code",
   "execution_count": null,
   "id": "working-custody",
   "metadata": {},
   "outputs": [],
   "source": [
    "print(\"The calculated performance for the uncontrolled case of Scenario gamma is:\")\n",
    "print(\"{}.\".format(uncontrolled_perf))"
   ]
  },
  {
   "cell_type": "markdown",
   "id": "downtown-voluntary",
   "metadata": {},
   "source": [
    "We are going to focus on only controlling the furthest 4 downstream basin later. Let's look at the uncontrolled response for those 4 basins, including the fraction full for each basin (based on depth, aka filling degree) and the flow out of each basin."
   ]
  },
  {
   "cell_type": "code",
   "execution_count": null,
   "id": "animal-jacksonville",
   "metadata": {},
   "outputs": [],
   "source": [
    "basin_max_depths = [5., 10., 10., 10.]\n",
    "\n",
    "plt.figure(figsize=(15,6))\n",
    "plt.subplot(1,2,1)\n",
    "plt.plot(np.asarray(env.data_log['depthN']['1'])/basin_max_depths[0], label='Basin 1')\n",
    "plt.plot(np.asarray(env.data_log['depthN']['2'])/basin_max_depths[1], label='Basin 2')\n",
    "plt.plot(np.asarray(env.data_log['depthN']['3'])/basin_max_depths[2], label='Basin 3')\n",
    "plt.plot(np.asarray(env.data_log['depthN']['4'])/basin_max_depths[3], label='Basin 4')\n",
    "plt.xlabel('Simulation Timestep')\n",
    "plt.ylabel('Filling Degree')\n",
    "plt.legend()\n",
    "\n",
    "plt.subplot(1,2,2)\n",
    "plt.plot(env.data_log['flow']['O1'], label='Basin 1')\n",
    "plt.plot(env.data_log['flow']['O2'], label='Basin 2')\n",
    "plt.plot(env.data_log['flow']['O3'], label='Basin 3')\n",
    "plt.plot(env.data_log['flow']['O4'], label='Basin 4')\n",
    "plt.xlabel('Simulation Timestep')\n",
    "plt.ylabel('Basin Outflow (cfs)')\n",
    "plt.legend()"
   ]
  },
  {
   "cell_type": "markdown",
   "id": "frequent-hamilton",
   "metadata": {},
   "source": [
    "### Equal Filling Degree Control of Scenario gamma\n",
    "##### A Summary of Equal Filling Degree\n",
    "We will now set up an equal filling degree approach to control Scenario gamma. An equal filling degree approach aims to maintain each basin at the same relative fullness (aka filling degree). In this example, we will consider basin fullness based on depth (filling degree = current depth / basin maximum depth). However, depending on the objective of the control designer (i.e., you), equal filling degree can consider basin volume, pollutant load, etc. Many researchers have tailored and broadened the relatively simple equal filling degree approach for a number of use cases. For additional reading, we direct you to [Dirckx et al. (2014)](https://www.researchgate.net/publication/273137213_Real_Time_Control_From_Desk_Study_to_Full_Implementation), [Schutze et al. (2018)](https://doi.org/10.2166/wst.2018.172), and [Mullapudi et al. (2020)](https://doi.org/10.1016/j.advwatres.2020.103600) as starting places.\n",
    "\n",
    "##### Getting Started ...\n",
    "For this introductory example, instead of controlling the valves at the outlets of all 11 basins in the network, we will focus on controlling only the most downstream 4 basins, namely storage units 1, 2, 3, 4 with valves O1, O2, O3, O4."
   ]
  },
  {
   "cell_type": "markdown",
   "id": "chronic-bundle",
   "metadata": {},
   "source": [
    "We are first going to build the equal filling degree logic as a separate function we can call during each step of the simulation. This is just to keep our work a little more tidy. 🧹\n",
    "\n",
    "The function below receives the current states that are most relevant and settings. In this case, the states are the depths of the 4 basins we are controlling, and the settings are for their respective outlet valves.\n",
    "\n",
    "Tip💡: Parameter _c_ below regulates how reactively we open the valve with respect to the difference between a basin's filling degree and the average. For this example, we start with _c=1.5_.\n",
    "\n",
    "Tip💡: Parameter _theta_ below can control the flashiness of the outflow hydrograph. For this example, we start with _theta=0.25_.\n",
    "\n",
    "You can play around with these parameter values to see their respective impact on basin and system behavior. See [Mullapudi et al. (2020)](https://doi.org/10.1016/j.advwatres.2020.103600) for more information."
   ]
  },
  {
   "cell_type": "code",
   "execution_count": null,
   "id": "animated-girlfriend",
   "metadata": {
    "ExecuteTime": {
     "end_time": "2020-09-23T15:19:37.780925Z",
     "start_time": "2020-09-23T15:19:37.757285Z"
    }
   },
   "outputs": [],
   "source": [
    "def controller_efd(state, max_depths):\n",
    "    # Initialize the action space so that we can compute the new settings\n",
    "    new_settings = np.ones(len(state))\n",
    "    # Set equal filling degree parameters\n",
    "    c = 1.5\n",
    "    theta = 0.25\n",
    "    \n",
    "    # Assign the current depth in each basin\n",
    "    depths = state\n",
    "    \n",
    "    # Compute the filling degrees\n",
    "    fd = depths/max_depths\n",
    "    # Compute the average filling degree across each controlled basin\n",
    "    fd_average = sum(fd)/len(fd)\n",
    "    \n",
    "    # Update each valve setting based on the relative fullness of each basin\n",
    "    for i in range(0,len(fd)):\n",
    "        \n",
    "        # If a basin is very full compared to the average, we should open its\n",
    "        # valve to release some water\n",
    "        if fd[i] > fd_average:\n",
    "            new_settings[i] = c*(fd[i]-fd_average)\n",
    "        \n",
    "        # If a basin's filling degree is close to the average (within some value\n",
    "        # theta), its setting can be close to that average\n",
    "        elif fd_average-fd[i] <= theta:\n",
    "            new_settings[i] = fd_average\n",
    "            \n",
    "        # If a basin is very empty compared to the average, we can close its\n",
    "        # valve to store more water at that location, prioritizing releasing at\n",
    "        # the other locations\n",
    "        else:\n",
    "            new_settings[i] = 0.\n",
    "        \n",
    "        # Make sure the settings are in bounds [0,1]\n",
    "        new_settings[i] = min(new_settings[i], 1.)\n",
    "        new_settings[i] = max(new_settings[i], 0.)\n",
    "\n",
    "    return new_settings"
   ]
  },
  {
   "cell_type": "markdown",
   "id": "closed-roman",
   "metadata": {},
   "source": [
    "Now we will use the above equal filling degree function to run the simulation and make the control decisions as prescribed."
   ]
  },
  {
   "cell_type": "code",
   "execution_count": null,
   "id": "demonstrated-physiology",
   "metadata": {
    "ExecuteTime": {
     "end_time": "2020-09-23T15:18:50.571714Z",
     "start_time": "2020-09-23T15:18:23.405166Z"
    }
   },
   "outputs": [],
   "source": [
    "env = pystorms.scenarios.gamma()\n",
    "done = False\n",
    "\n",
    "# Specify the maximum depths for each basin we are controlling\n",
    "basin_max_depths = [5., 10., 10., 10.]\n",
    "\n",
    "while not done:\n",
    "    # Query the current state of the simulation\n",
    "    state = env.state()\n",
    "    # Isolate only the states that we need (the 4 downstream basin depths)\n",
    "    states_relevant = state[0:4]\n",
    "    \n",
    "    # Pass the current, relevant states and the maximum basin \n",
    "    # depths into our equal filling degree logic\n",
    "    actions_efd = controller_efd(states_relevant, basin_max_depths)\n",
    "    # Specify that the other 7 valves in the network should be \n",
    "    # open since we are not controlling them here\n",
    "    actions_uncontrolled = np.ones(7)\n",
    "    # Join the two above action arrays\n",
    "    actions = np.concatenate((actions_efd, actions_uncontrolled), axis=0)\n",
    "    \n",
    "    # Set the actions and progress the simulation\n",
    "    done = env.step(actions)\n",
    "    \n",
    "# Calculate the performance measure for the uncontrolled simulation\n",
    "equalfilling_perf = sum(env.data_log[\"performance_measure\"])"
   ]
  },
  {
   "cell_type": "code",
   "execution_count": null,
   "id": "premier-hayes",
   "metadata": {},
   "outputs": [],
   "source": [
    "print(\"The calculated performance for the equal filling degree case of Scenario gamma is:\")\n",
    "print(\"{}.\".format(equalfilling_perf))"
   ]
  },
  {
   "cell_type": "code",
   "execution_count": null,
   "id": "commercial-klein",
   "metadata": {},
   "outputs": [],
   "source": [
    "plt.figure(figsize=(15,6))\n",
    "plt.subplot(1,2,1)\n",
    "plt.plot(np.asarray(env.data_log['depthN']['1'])/basin_max_depths[0], label='Basin 1')\n",
    "plt.plot(np.asarray(env.data_log['depthN']['2'])/basin_max_depths[1], label='Basin 2')\n",
    "plt.plot(np.asarray(env.data_log['depthN']['3'])/basin_max_depths[2], label='Basin 3')\n",
    "plt.plot(np.asarray(env.data_log['depthN']['4'])/basin_max_depths[3], label='Basin 4')\n",
    "plt.xlabel('Simulation Timestep')\n",
    "plt.ylabel('Filling Degree')\n",
    "plt.legend()\n",
    "\n",
    "plt.subplot(1,2,2)\n",
    "plt.plot(env.data_log['flow']['O1'], label='Basin 1')\n",
    "plt.plot(env.data_log['flow']['O2'], label='Basin 2')\n",
    "plt.plot(env.data_log['flow']['O3'], label='Basin 3')\n",
    "plt.plot(env.data_log['flow']['O4'], label='Basin 4')\n",
    "plt.xlabel('Simulation Timestep')\n",
    "plt.ylabel('Basin Outflow (cfs)')\n",
    "plt.legend()"
   ]
  },
  {
   "cell_type": "markdown",
   "id": "special-breakdown",
   "metadata": {},
   "source": [
    "### Exercise 1\n",
    "\n",
    "Toggle around with the equal filling degree parameters _c_ and _theta_ to see how they impact performance of our control and if you can improve the performance of this controller.\n",
    "\n",
    "Question 🤔: Manually toggling this parameters can be tedious. What other approaches could we use to optimize these parameter selections?"
   ]
  },
  {
   "cell_type": "markdown",
   "id": "active-sauce",
   "metadata": {},
   "source": [
    "### Exercise 2\n",
    "\n",
    "Based on our initial control results (copied in the figure below), Basins 1 and 4 seem to be most utilized, while Basins 2 and 3 are rarely above a filling degree of 0.3. We can also see that Basin 2 outflow has some oscillations. This is likely due Basin 2's small size relative to the other basins.\n",
    "\n",
    "![gamma efd results](./data/gamma_efd.png)\n",
    "\n",
    "Note: The completely full volumes for each basin are approximately:\n",
    "\n",
    "| Basin | Volume (1000 cf) |\n",
    "| --- | ---: |\n",
    "| 1 | 430 |\n",
    "| 2 | 28 |\n",
    "| 3 | 1,100 |\n",
    "| 4 | 1,100 |\n",
    "| 5 | 45 |\n",
    "| 6 | 570 |\n",
    "| 7 | 74 |\n",
    "| 8 | 140 |\n",
    "| 9 | 13 |\n",
    "| 10 | 690 |\n",
    "| 11 | 280 |\n",
    "\n",
    "Looking again at the Scenario gamma network, should we consider controlling any other basins based on their location in the network? What other factors should we consider?\n",
    "\n",
    "![gamma network](./data/gamma.png)"
   ]
  }
 ],
 "metadata": {
  "kernelspec": {
   "display_name": "Python 3 (ipykernel)",
   "language": "python",
   "name": "python3"
  },
  "language_info": {
   "codemirror_mode": {
    "name": "ipython",
    "version": 3
   },
   "file_extension": ".py",
   "mimetype": "text/x-python",
   "name": "python",
   "nbconvert_exporter": "python",
   "pygments_lexer": "ipython3",
   "version": "3.9.16"
  }
 },
 "nbformat": 4,
 "nbformat_minor": 5
}
