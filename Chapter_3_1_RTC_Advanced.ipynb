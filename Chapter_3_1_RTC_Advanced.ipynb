{
 "cells": [
  {
   "cell_type": "markdown",
   "metadata": {},
   "source": [
    "# Scenario Epsilon\n",
    "\n",
    "In this example, we evaluate the use of bayesian optimization for controlling loads to the treatment plant."
   ]
  },
  {
   "cell_type": "code",
   "execution_count": 1,
   "outputs": [],
   "source": [
    "import pystorms\n",
    "import numpy as np\n",
    "import matplotlib.pyplot as plt\n",
    "from GPyOpt.methods import BayesianOptimization"
   ],
   "metadata": {
    "collapsed": false,
    "pycharm": {
     "name": "#%%\n"
    }
   }
  },
  {
   "cell_type": "code",
   "execution_count": 2,
   "metadata": {},
   "outputs": [],
   "source": [
    "# RC parms for pertty plots\n",
    "plt.rcParams.update({'font.size': 14})\n",
    "plt.style.use('seaborn-whitegrid')\n",
    "plt.style.use('seaborn-dark-palette')"
   ]
  },
  {
   "cell_type": "code",
   "execution_count": null,
   "metadata": {},
   "outputs": [],
   "source": [
    "# Objective Function\n",
    "def f_loss(x):\n",
    "    # GypOpt uses 2d array\n",
    "    # pystorms requies 1d array\n",
    "    x = x.flatten()\n",
    "\n",
    "    # Initialize the scenario\n",
    "    env = pystorms.scenarios.epsilon()\n",
    "    done = False\n",
    "    \n",
    "    while not done:\n",
    "        done = env.step(x)\n",
    "        \n",
    "    loss = env.performance()\n",
    "    return loss"
   ]
  },
  {
   "cell_type": "code",
   "execution_count": null,
   "metadata": {},
   "outputs": [],
   "source": [
    "# Read the parsed args\n",
    "random_seed = 42\n",
    "number_iter = 5\n",
    "\n",
    "# Set the random seed\n",
    "np.random.seed(random_seed)\n",
    "\n",
    "# Create the domain\n",
    "domain = []\n",
    "for i in range(1, 11):\n",
    "    domain.append({\"name\": \"var_\" + str(i), \"type\": \"continuous\", \"domain\": (0.0, 1.0)})\n",
    "\n",
    "\n",
    "myBopt = BayesianOptimization(\n",
    "    f=f_loss, domain=domain,\n",
    "    model_type=\"GP\",\n",
    "    acquisition_type=\"EI\",\n",
    ")\n",
    "\n",
    "myBopt.run_optimization(\n",
    "    max_iter=number_iter,\n",
    "    verbosity=True,\n",
    "    eps=0.005,\n",
    ")"
   ]
  }
 ],
 "metadata": {
  "hide_input": false,
  "kernelspec": {
   "display_name": "pystorms-tutorial",
   "language": "python",
   "name": "pystorms-tutorial"
  },
  "language_info": {
   "codemirror_mode": {
    "name": "ipython",
    "version": 3
   },
   "file_extension": ".py",
   "mimetype": "text/x-python",
   "name": "python",
   "nbconvert_exporter": "python",
   "pygments_lexer": "ipython3",
   "version": "3.9.10"
  },
  "toc": {
   "base_numbering": 1,
   "nav_menu": {},
   "number_sections": false,
   "sideBar": false,
   "skip_h1_title": true,
   "title_cell": "Table of Contents",
   "title_sidebar": "Contents",
   "toc_cell": true,
   "toc_position": {},
   "toc_section_display": true,
   "toc_window_display": false
  },
  "varInspector": {
   "cols": {
    "lenName": 16,
    "lenType": 16,
    "lenVar": 40
   },
   "kernels_config": {
    "python": {
     "delete_cmd_postfix": "",
     "delete_cmd_prefix": "del ",
     "library": "var_list.py",
     "varRefreshCmd": "print(var_dic_list())"
    },
    "r": {
     "delete_cmd_postfix": ") ",
     "delete_cmd_prefix": "rm(",
     "library": "var_list.r",
     "varRefreshCmd": "cat(var_dic_list()) "
    }
   },
   "types_to_exclude": [
    "module",
    "function",
    "builtin_function_or_method",
    "instance",
    "_Feature"
   ],
   "window_display": false
  }
 },
 "nbformat": 4,
 "nbformat_minor": 4
}